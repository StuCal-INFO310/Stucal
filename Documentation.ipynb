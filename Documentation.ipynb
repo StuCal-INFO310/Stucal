{
 "cells": [
  {
   "attachments": {},
   "cell_type": "markdown",
   "metadata": {},
   "source": [
    "# **University of Otago Key Dates to Calendar** \n",
    "\n",
    "Throughout this notebook, I will document the process I have taken to process the events from the [University of Otago's key dates page](https://www.otago.ac.nz/news/events/keydates/) in to Google Calendar events. Techniques I used included web scraping and OAuth authentication and making calls to Google Calendars API. \n",
    "\n",
    "## **Problem**\n",
    "\n",
    "The problem I was having was that I didnt want to have to go through Otago's key dates website and manually add all the events I needed to keep track of. So I devised a Python script to do it for me. \n"
   ]
  },
  {
   "attachments": {},
   "cell_type": "markdown",
   "metadata": {},
   "source": [
    "## **Set Up**\n",
    "\n",
    "First and foremost we need to import all the required libraries into our project"
   ]
  },
  {
   "cell_type": "code",
   "execution_count": 16,
   "metadata": {},
   "outputs": [],
   "source": [
    "# Importing modules for web scraping\n",
    "import requests\n",
    "from bs4 import BeautifulSoup\n",
    "from datetime import datetime"
   ]
  },
  {
   "attachments": {},
   "cell_type": "markdown",
   "metadata": {
    "vscode": {
     "languageId": "shellscript"
    }
   },
   "source": [
    "## **Web Scraping the Key Dates Page**\n",
    "\n",
    "After I installed all of the packages required, I got streight on to learning the python web scraping library `BeautifulSoup`. "
   ]
  },
  {
   "attachments": {},
   "cell_type": "markdown",
   "metadata": {},
   "source": [
    "Before we start processing the webpage, we need to use `requests` to get the page. We then follow this creating an instance of `BeautifulSoup`, passing in our responce. "
   ]
  },
  {
   "cell_type": "code",
   "execution_count": 17,
   "metadata": {},
   "outputs": [],
   "source": [
    "# Scraping the webpage and getting the data\n",
    "url = \"https://www.otago.ac.nz/news/events/keydates/\"\n",
    "response = requests.get(url)\n",
    "soup = BeautifulSoup(response.text, \"html.parser\")\n",
    "data = {}"
   ]
  },
  {
   "attachments": {},
   "cell_type": "markdown",
   "metadata": {},
   "source": [
    "#### **Processing the web page** \n",
    "\n",
    "From here we can start to process the page and extract all the elements we want. In our case, our months are stored under the selector `#main > div.atoz-content > ul > a > h2`, and the tables containing the events stored under the selector `#main > div.atoz-content > ul > dl`"
   ]
  },
  {
   "cell_type": "code",
   "execution_count": 18,
   "metadata": {},
   "outputs": [
    {
     "name": "stdout",
     "output_type": "stream",
     "text": [
      "April 2024\n",
      "2024-04-25: ANZAC Day\n",
      "\n",
      "May 2024\n",
      "2024-05-03: Last day to withdraw from semester 1 papers (11:59pm deadline)\n",
      "2024-05-11: Graduation ceremonies\n",
      "2024-05-18: Graduation ceremonies\n",
      "2024-05-31: Lectures cease before semester 1 examinations\n",
      "\n",
      "June 2024\n",
      "2024-06-03: King's Birthday\n",
      "2024-06-05: Semester 1 examinations begin\n",
      "2024-06-19: Semester 1 examinations end\n",
      "2024-06-25: Due date for submission of papers for course approval by students taking only semester 2 papers\n",
      "2024-06-28: Matariki\n",
      "\n",
      "July 2024\n",
      "2024-07-10: Due date for payment of all fees enrolled for students registering for study commencing in semester 2 only\n",
      "2024-07-15: Due date for completion of course enrolment declaration by students taking only semester 2 papers (late fee may apply)\n",
      "2024-07-19: Last day to add semester 2 papers (11:59pm deadline)\n",
      "2024-07-24: 2024 Sem 1 Special Exams (centrally managed) end\n",
      "\n",
      "August 2024\n",
      "2024-08-02: Last day to delete semester 2 papers with refund of fees (11:59pm deadline)\n",
      "2024-08-17: Graduation ceremonies\n",
      "2024-08-31: Mid-semester break begins\n",
      "\n",
      "September 2024\n",
      "2024-09-09: Semester 2 resumes\n",
      "2024-09-20: Last day to withdraw from semester 2 and full-year papers (11:59pm deadline)\n",
      "\n",
      "October 2024\n",
      "2024-10-18: Lectures end before semester 2 examinations\n",
      "2024-10-21: Semester 2 examinations begin\n",
      "2024-10-28: Labour Day\n",
      "\n",
      "November 2024\n",
      "2024-11-09: Semester 2 examinations end\n",
      "2024-11-11: Due date for completion of course enrolment declaration concerning Pre-Christmas Summer School papers (late fee may apply)\n",
      "2024-11-13: Last day to add Pre-Christmas Summer School papers (11:59 deadline)\n",
      "2024-11-17: Last day to delete Pre-Christmas Summer School papers with refund of fees (11:59pm deadline)\n",
      "\n",
      "December 2024\n",
      "2024-12-06: Last day to withdraw from Pre-Christmas Summer School papers (11:59pm deadline)\n",
      "2024-12-07: Graduation ceremonies\n",
      "2024-12-11: Graduation ceremonies\n",
      "2024-12-13: Pre-Christmas Summer School classes end\n",
      "2024-12-14: Graduation ceremonies\n",
      "2024-12-15: Due date for submission of 2025 Summer School papers for course approval\n",
      "\n",
      "January 2025\n",
      "2025-01-03: University reopens\n",
      "2025-01-06: Due date for completion of course enrolment declaration concerning Summer School papers (late fee may apply)\n",
      "2025-01-09:  Last day to add Summer School Papers\n",
      "2025-01-15: Last day to delete Summer School papers\n",
      "\n",
      "February 2025\n",
      "2025-02-06: Waitangi Day\n",
      "2025-02-07: Last day to withdraw from Summer School papers\n",
      "2025-02-14: Summer School classes end\n",
      "2025-02-15: Summer School examinations begin\n",
      "2025-02-20: Summer School examinations end\n",
      "2025-02-21: Due date for completion of course enrolment declaration by students taking semester 1 and full-year papers (a late fee may apply)\n",
      "2025-02-24: Formal lectures begin\n",
      "\n",
      "March 2025\n",
      "2025-03-02: Last day to add full-year papers\n",
      "2025-03-16: Last day to delete semester 1 papers with refund of fees\n",
      "2025-03-23: Last day to delete full-year papers with refund of fees\n",
      "\n",
      "April 2025\n",
      "2025-04-18: Good Friday – Mid-semester break begins\n",
      "2025-04-21: Easter Monday\n",
      "2025-04-22: Otago Anniversary Day observance (Dunedin)\n",
      "2025-04-25: ANZAC Day\n",
      "2025-04-28: Semester 1 resumes\n",
      "\n",
      "May 2025\n",
      "2025-05-04: Last day to withdraw from semester 1 papers\n",
      "2025-05-10: Graduation Ceremonies\n",
      "2025-05-17: Graduation Ceremonies\n",
      "2025-05-30: Lectures cease before semester 1 examinations\n",
      "\n",
      "June 2025\n",
      "2025-06-02: King's Birthday\n",
      "2025-06-04: Semester 1 examinations begin\n",
      "2025-06-18: Semester 1 examinations end\n",
      "2025-06-20: Matariki\n",
      "2025-06-25: Due date for submission of papers for course approval by students taking only semester 2 papers\n",
      "\n",
      "July 2025\n",
      "2025-07-14: Due date for completion of course enrolment declaration by students taking only semester 2 papers (late fee may apply)\n",
      "2025-07-20: Last day to add semester 2 papers\n",
      "\n",
      "August 2025\n",
      "2025-08-03: Last day to delete semester 2 papers with refund of fees\n",
      "2025-08-23: Graduation Ceremony\n",
      "2025-08-30: Mid-semester break begins\n",
      "\n",
      "September 2025\n",
      "2025-09-08: Semester 2 resumes\n",
      "2025-09-21: Last day to withdraw from semester 2 papers\n",
      "\n",
      "October 2025\n",
      "2025-10-17: Lectures end before semester 2 examinations\n",
      "2025-10-20: Semester 2 examinations begin\n",
      "2025-10-27: Labour Day\n",
      "\n",
      "November 2025\n",
      "2025-11-08: Semester 2 examinations end\n",
      "2025-11-10: Due date for completion of course enrolment declaration concerning Pre-Christmas Summer School papers (late fee may apply)\n",
      "2025-11-12: Last day to add Pre-Christmas Summer School papers\n",
      "2025-11-17: Last day to delete Pre-Christmas Summer School papers\n",
      "\n",
      "December 2025\n",
      "2025-12-05: Last day to withdraw from Pre-Christmas Summer School papers\n",
      "2025-12-06: Graduation Ceremonies\n",
      "2025-12-10: Graduation Ceremonies\n",
      "2025-12-12: Pre-Christmas Summer School classes end\n",
      "2025-12-13: Graduation Ceremonies\n",
      "\n"
     ]
    }
   ],
   "source": [
    "# Stores all the months\n",
    "months = soup.select(\"#main > div.atoz-content > ul > a > h2\") \n",
    "\n",
    "# Stores all the Dates and Events from each month\n",
    "months_tables = soup.select(\"#main > div.atoz-content > ul > dl\")\n",
    "\n",
    "# Processing the events into a dictionary\n",
    "for i in range(len(months)):\n",
    "    month_key = months[i].text          # month text eg. \"January\"\n",
    "    month_events = months_tables[i]\n",
    "\n",
    "    # Appending the events to the month key in the dictionary\n",
    "    data[month_key] = month_events\n",
    "\n",
    "# Iterate through each month and create a dictionary of key = date and value = event\n",
    "for month in data:\n",
    "    events = data[month]\n",
    "    event_dict = {}\n",
    "\n",
    "    # Iterate over each dt and dd elements\n",
    "    for i in range(len(events.select(\"dt\"))):\n",
    "        date = events.select(\"dt\")[i].text\n",
    "        event = events.select(\"dd\")[i].text\n",
    "\n",
    "        # Extracting the last 4 digits of the month \n",
    "        current_year = int(month[-4:])\n",
    "\n",
    "        # convert date to datetime object from this format: Monday, 9 January\n",
    "        date = datetime.strptime(date, \"%A, %d %B\").replace(year=current_year)\n",
    "        date = date.strftime(\"%Y-%m-%d\")\n",
    "\n",
    "        # Append the date and event to the dictionary\n",
    "        event_dict[date] = event\n",
    "\n",
    "    # Replace the list of events with the dictionary\n",
    "    data[month] = event_dict\n",
    "\n",
    "# Printing the data in a readable format\n",
    "for month in data:\n",
    "    print(month)\n",
    "    for date in data[month]:\n",
    "        print(f\"{date}: {data[month][date]}\")\n",
    "    print()"
   ]
  },
  {
   "cell_type": "markdown",
   "metadata": {},
   "source": [
    "### **Saving the data to JSON**\n",
    "\n",
    "After we have processed the page, we can save the data to a JSON file. This will allow us to easily access the data later on."
   ]
  },
  {
   "cell_type": "code",
   "execution_count": 20,
   "metadata": {},
   "outputs": [],
   "source": [
    "# Saving data to a JSON file \n",
    "import json\n",
    "\n",
    "export_data = {\n",
    "    \"separated_by_month\": data,\n",
    "    \"flat\": {},\n",
    "}\n",
    "\n",
    "for month in data: \n",
    "    for date in data[month]:\n",
    "        export_data[\"flat\"][date] = data[month][date]\n",
    "\n",
    "with open(\"./data/events.json\", \"w\") as f:\n",
    "    json.dump(export_data, f, indent=4)"
   ]
  }
 ],
 "metadata": {
  "kernelspec": {
   "display_name": "Python 3",
   "language": "python",
   "name": "python3"
  },
  "language_info": {
   "codemirror_mode": {
    "name": "ipython",
    "version": 3
   },
   "file_extension": ".py",
   "mimetype": "text/x-python",
   "name": "python",
   "nbconvert_exporter": "python",
   "pygments_lexer": "ipython3",
   "version": "3.9.19"
  },
  "orig_nbformat": 4,
  "vscode": {
   "interpreter": {
    "hash": "a665b5d41d17b532ea9890333293a1b812fa0b73c9c25c950b3cedf1bebd0438"
   }
  }
 },
 "nbformat": 4,
 "nbformat_minor": 2
}
